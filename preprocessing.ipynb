{
 "cells": [
  {
   "cell_type": "code",
   "execution_count": 1,
   "metadata": {},
   "outputs": [],
   "source": [
    "import pandas as pd\n",
    "import pathlib\n",
    "import folium\n",
    "import ast\n",
    "from math import sin, ceil\n",
    "import numpy as np\n",
    "\n",
    "import data_utils as utils"
   ]
  },
  {
   "cell_type": "markdown",
   "metadata": {},
   "source": [
    "\"\"\"\n",
    "name::String\n",
    "    ## bounding box\n",
    "    minlon::Float64\n",
    "    minlat::Float64\n",
    "    maxlon::Float64\n",
    "    maxlat::Float64\n",
    "            \n",
    "    minx::Float64\n",
    "    miny::Float64\n",
    "    maxx::Float64\n",
    "    maxy::Float64\n",
    "            \n",
    "    xstep::Float64 # cell size\n",
    "    ystep::Float64\n",
    "            \n",
    "    numx::Int\n",
    "    numy::Int\n",
    "    minfreq::Int # minfreq for cell\n",
    "    maxvocab_size::Int\n",
    "    k::Int\n",
    "       \n",
    "       \n",
    "    ##### 아래는 make_vocab function에서 생성\n",
    "    ## the number of hitting\n",
    "    cellcount\n",
    "    ## hot cells\n",
    "    hotcell::Vector{Int}\n",
    "    ## hot cell kdtree\n",
    "    hotcell_kdtree : any\n",
    "    ## map a hot cell into the vocabulary id\n",
    "    hotcell2vocab::Dict{Int, Int}\n",
    "    ## map the vocabulary id into its hot cell\n",
    "    vocab2hotcell::Dict{Int, Int}\n",
    "    ## vocab start\n",
    "    vocab_start::Int\n",
    "    ## vocabulary size\n",
    "    vocab_size::Int\n",
    "    ## whether indices have been built\n",
    "    built::Bool\n",
    "    \"\"\"\n",
    "class attribute 느낌."
   ]
  },
  {
   "cell_type": "code",
   "execution_count": null,
   "metadata": {},
   "outputs": [
    {
     "name": "stdout",
     "output_type": "stream",
     "text": [
      "Processed 0 rows.\n",
      "Processed 1000 rows.\n",
      "Processed 2000 rows.\n",
      "Processed 3000 rows.\n",
      "Processed 4000 rows.\n",
      "Processed 5000 rows.\n",
      "Processed 6000 rows.\n",
      "Processed 7000 rows.\n",
      "Processed 8000 rows.\n",
      "Processed 9000 rows.\n",
      "Processed 10000 rows.\n",
      "Processed 11000 rows.\n",
      "Processed 12000 rows.\n",
      "Processed 13000 rows.\n",
      "Processed 14000 rows.\n",
      "Processed 15000 rows.\n",
      "Processed 16000 rows.\n",
      "Processed 17000 rows.\n",
      "Processed 18000 rows.\n",
      "Processed 19000 rows.\n",
      "Processed 20000 rows.\n",
      "Processed 21000 rows.\n",
      "Processed 22000 rows.\n",
      "Processed 23000 rows.\n",
      "Processed 24000 rows.\n",
      "Processed 25000 rows.\n",
      "Processed 26000 rows.\n",
      "Processed 27000 rows.\n",
      "Processed 28000 rows.\n",
      "Processed 29000 rows.\n",
      "Processed 30000 rows.\n",
      "Processed 31000 rows.\n",
      "Processed 32000 rows.\n",
      "Processed 33000 rows.\n",
      "Processed 34000 rows.\n",
      "Processed 35000 rows.\n"
     ]
    }
   ],
   "source": [
    "data_dir = pathlib.PosixPath(\"data/\")\n",
    "\n",
    "utils.porto2standardcsv(data_dir/\"porto\"/\"train.csv\")"
   ]
  },
  {
   "cell_type": "code",
   "execution_count": null,
   "metadata": {},
   "outputs": [],
   "source": [
    "class SpatialRegion(object) : \n",
    "    \n",
    "    def __init__(dataset_name, minlon, minlat, maxlon, maxlat, \n",
    "                 xstep, ystep, numx, numy, \n",
    "                 minfreq, maxvocab_size, k, \n",
    "                 cellcount, hotcell, hotcell_kdtree,\n",
    "                 hotcell2vocab, vocab2hotcell, vocab_start, vocab_size, is_built\n",
    "                ):\n",
    "        self.dataset_name = dataset_name\n",
    "        self.minlon = minlon\n",
    "        self.minlat = minlat\n",
    "        self.maxlon = maxlon\n",
    "        self.maxlat = maxlat\n",
    "        # compute minx, miny, maxx, maxy\n",
    "        \n",
    "        \n",
    "    "
   ]
  }
 ],
 "metadata": {
  "kernelspec": {
   "display_name": "pytorch_py3",
   "language": "python",
   "name": "pytorch_py3"
  },
  "language_info": {
   "codemirror_mode": {
    "name": "ipython",
    "version": 3
   },
   "file_extension": ".py",
   "mimetype": "text/x-python",
   "name": "python",
   "nbconvert_exporter": "python",
   "pygments_lexer": "ipython3",
   "version": "3.7.3"
  }
 },
 "nbformat": 4,
 "nbformat_minor": 4
}
